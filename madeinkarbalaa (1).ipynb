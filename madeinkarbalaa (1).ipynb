{
 "cells": [
  {
   "cell_type": "code",
   "execution_count": 1,
   "id": "485fcfa0-d13c-469b-b284-817b08cbff41",
   "metadata": {},
   "outputs": [],
   "source": [
    "import pandas as pd\n",
    "import numpy as np\n",
    "import matplotlib.pyplot as plt\n",
    "import seaborn as sns\n"
   ]
  },
  {
   "cell_type": "code",
   "execution_count": 60,
   "id": "c6674153-5bcf-408f-912f-0f9c9d788ef5",
   "metadata": {},
   "outputs": [],
   "source": [
    "df = pd.read_csv('visits_2022-01-01_2022-10-09 (5).csv')\n",
    "df = df.copy()\n",
    "convert = df.loc[df['total_checkouts'] == 1]"
   ]
  },
  {
   "cell_type": "code",
   "execution_count": null,
   "id": "5a2d60aa-1c3a-4873-905b-594757da4d92",
   "metadata": {},
   "outputs": [],
   "source": [
    "\n"
   ]
  },
  {
   "cell_type": "code",
   "execution_count": 3,
   "id": "5758da86-d3d0-48fe-99b8-5a7448abdf70",
   "metadata": {},
   "outputs": [
    {
     "data": {
      "text/plain": [
       "Qatar                   18.604651\n",
       "Oman                    16.666667\n",
       "Poland                  16.666667\n",
       "Philippines             15.384615\n",
       "Switzerland             14.285714\n",
       "United Arab Emirates    12.500000\n",
       "Spain                   11.111111\n",
       "India                   10.730594\n",
       "South Africa            10.000000\n",
       "Malaysia                10.000000\n",
       "Name: location_country, dtype: float64"
      ]
     },
     "execution_count": 3,
     "metadata": {},
     "output_type": "execute_result"
    }
   ],
   "source": [
    "(convert['location_country'].value_counts()/df['location_country'].value_counts()*100).sort_values(ascending = False).head(10)"
   ]
  },
  {
   "cell_type": "code",
   "execution_count": 50,
   "id": "d03452a5-3a03-4ba9-bd28-abc0bde67c19",
   "metadata": {},
   "outputs": [
    {
     "data": {
      "text/plain": [
       "United States           43.493151\n",
       "India                   16.095890\n",
       "United Kingdom           7.876712\n",
       "Canada                   7.191781\n",
       "Australia                4.794521\n",
       "Qatar                    2.739726\n",
       "Germany                  2.739726\n",
       "United Arab Emirates     2.397260\n",
       "Sweden                   2.397260\n",
       "France                   1.712329\n",
       "Denmark                  1.369863\n",
       "Saudi Arabia             1.369863\n",
       "Pakistan                 1.027397\n",
       "Switzerland              0.684932\n",
       "Philippines              0.684932\n",
       "Turkey                   0.684932\n",
       "Iraq                     0.342466\n",
       "Poland                   0.342466\n",
       "Malaysia                 0.342466\n",
       "Indonesia                0.342466\n",
       "South Africa             0.342466\n",
       "Spain                    0.342466\n",
       "Norway                   0.342466\n",
       "Oman                     0.342466\n",
       "Name: location_country, dtype: float64"
      ]
     },
     "execution_count": 50,
     "metadata": {},
     "output_type": "execute_result"
    }
   ],
   "source": [
    "convert['location_country'].value_counts(normalize = True)*100"
   ]
  },
  {
   "cell_type": "code",
   "execution_count": 5,
   "id": "f54fb1b0-681c-4652-ac51-ca0f72a31bf5",
   "metadata": {},
   "outputs": [
    {
     "data": {
      "text/plain": [
       "United States     52.965859\n",
       "India              8.353996\n",
       "Canada             5.226016\n",
       "United Kingdom     5.092504\n",
       "Pakistan           4.711043\n",
       "Australia          2.803738\n",
       "Iraq               2.117109\n",
       "Germany            2.002670\n",
       "Saudi Arabia       1.945451\n",
       "Sweden             1.602136\n",
       "Name: location_country, dtype: float64"
      ]
     },
     "execution_count": 5,
     "metadata": {},
     "output_type": "execute_result"
    }
   ],
   "source": [
    "(df['location_country'].value_counts(normalize = True)*100).head(10)"
   ]
  },
  {
   "cell_type": "code",
   "execution_count": 6,
   "id": "8d5fdde1-48fb-49ac-ba68-9d6be1e9e5a4",
   "metadata": {},
   "outputs": [
    {
     "data": {
      "text/plain": [
       "Qatar                   18.604651\n",
       "Oman                    16.666667\n",
       "Poland                  16.666667\n",
       "Philippines             15.384615\n",
       "Switzerland             14.285714\n",
       "United Arab Emirates    12.500000\n",
       "Spain                   11.111111\n",
       "India                   10.730594\n",
       "South Africa            10.000000\n",
       "Malaysia                10.000000\n",
       "Name: location_country, dtype: float64"
      ]
     },
     "execution_count": 6,
     "metadata": {},
     "output_type": "execute_result"
    }
   ],
   "source": [
    "'''COUNTRIES WITH HIGH CONVERSION'''\n",
    "\n",
    "\n",
    "(convert['location_country'].value_counts()/df['location_country'].value_counts()*100).sort_values(ascending = False)[:10] "
   ]
  },
  {
   "cell_type": "code",
   "execution_count": 7,
   "id": "3a7399f4-a396-43f2-a8e3-cbeb83e57df1",
   "metadata": {},
   "outputs": [
    {
     "data": {
      "text/plain": [
       "United States           127\n",
       "India                    47\n",
       "United Kingdom           23\n",
       "Canada                   21\n",
       "Australia                14\n",
       "Qatar                     8\n",
       "Germany                   8\n",
       "United Arab Emirates      7\n",
       "Sweden                    7\n",
       "France                    5\n",
       "Denmark                   4\n",
       "Saudi Arabia              4\n",
       "Pakistan                  3\n",
       "Switzerland               2\n",
       "Philippines               2\n",
       "Turkey                    2\n",
       "Iraq                      1\n",
       "Poland                    1\n",
       "Malaysia                  1\n",
       "Indonesia                 1\n",
       "South Africa              1\n",
       "Spain                     1\n",
       "Norway                    1\n",
       "Oman                      1\n",
       "Name: location_country, dtype: int64"
      ]
     },
     "execution_count": 7,
     "metadata": {},
     "output_type": "execute_result"
    }
   ],
   "source": [
    "convert['location_country'].value_counts()"
   ]
  },
  {
   "cell_type": "code",
   "execution_count": 8,
   "id": "35445d5d-bb0c-4cf1-b862-6eff19352132",
   "metadata": {},
   "outputs": [
    {
     "data": {
      "text/plain": [
       "London         11\n",
       "Doha            8\n",
       "Saint Paul      7\n",
       "Brampton        7\n",
       "Kennesaw        6\n",
       "Dearborn        6\n",
       "Bluffton        5\n",
       "Melbourne       5\n",
       "North Adams     4\n",
       "Düsseldorf      4\n",
       "Name: location_city, dtype: int64"
      ]
     },
     "execution_count": 8,
     "metadata": {},
     "output_type": "execute_result"
    }
   ],
   "source": [
    "convert['location_city'].value_counts()[:10]"
   ]
  },
  {
   "cell_type": "code",
   "execution_count": 9,
   "id": "e2082c68-80de-4e84-b0c1-6a9923544099",
   "metadata": {},
   "outputs": [
    {
     "data": {
      "text/plain": [
       "Council Bluffs    547\n",
       "Osseo             113\n",
       "Minneapolis        92\n",
       "Karachi            82\n",
       "Saint Paul         69\n",
       "Name: location_city, dtype: int64"
      ]
     },
     "execution_count": 9,
     "metadata": {},
     "output_type": "execute_result"
    }
   ],
   "source": [
    "df['location_city'].value_counts()[:5]"
   ]
  },
  {
   "cell_type": "code",
   "execution_count": 10,
   "id": "539d0ba0-2a39-4f0c-bf1a-ea16643738f3",
   "metadata": {},
   "outputs": [
    {
     "data": {
      "text/plain": [
       "Messanges              1.0\n",
       "Ostseebad Zinnowitz    1.0\n",
       "Durban                 1.0\n",
       "Stockport              1.0\n",
       "Rewa                   1.0\n",
       "Chandler               1.0\n",
       "Cannock                1.0\n",
       "Rancho Palos Verdes    1.0\n",
       "Pflugerville           1.0\n",
       "Tirupur                1.0\n",
       "Name: location_city, dtype: float64"
      ]
     },
     "execution_count": 10,
     "metadata": {},
     "output_type": "execute_result"
    }
   ],
   "source": [
    "(convert['location_city'].value_counts()/df['location_city'].value_counts()).sort_values(ascending = False)[:10] "
   ]
  },
  {
   "cell_type": "code",
   "execution_count": 11,
   "id": "c0e64851-f4f4-4346-9774-43178ee175f8",
   "metadata": {},
   "outputs": [
    {
     "data": {
      "text/plain": [
       "United States     2777\n",
       "India              438\n",
       "Canada             274\n",
       "United Kingdom     267\n",
       "Pakistan           247\n",
       "Australia          147\n",
       "Iraq               111\n",
       "Germany            105\n",
       "Saudi Arabia       102\n",
       "Sweden              84\n",
       "Name: location_country, dtype: int64"
      ]
     },
     "execution_count": 11,
     "metadata": {},
     "output_type": "execute_result"
    }
   ],
   "source": [
    "df['location_country'].value_counts()[:10]"
   ]
  },
  {
   "cell_type": "code",
   "execution_count": 12,
   "id": "fac03a57-761f-4d52-91b8-f4966e4e428f",
   "metadata": {},
   "outputs": [
    {
     "data": {
      "text/plain": [
       "0    5039\n",
       "1     292\n",
       "2       5\n",
       "Name: total_checkouts, dtype: int64"
      ]
     },
     "execution_count": 12,
     "metadata": {},
     "output_type": "execute_result"
    }
   ],
   "source": [
    "df['total_checkouts'].value_counts()"
   ]
  },
  {
   "cell_type": "code",
   "execution_count": 13,
   "id": "4b90584f-3993-43c8-be61-624b36a59dbc",
   "metadata": {},
   "outputs": [
    {
     "data": {
      "text/plain": [
       "Index(['location_country', 'location_city', 'ua_form_factor',\n",
       "       'ua_browser_version', 'ua_browser', 'ua_os_version', 'ua_os',\n",
       "       'page_path', 'page_resource_id', 'page_type', 'page_url',\n",
       "       'location_region', 'marketing_event_type', 'referrer_host',\n",
       "       'referrer_name', 'referrer_path', 'referrer_source', 'referrer_terms',\n",
       "       'referrer_url', 'hour', 'day', 'week', 'month', 'hour_of_day',\n",
       "       'day_of_week', 'year', 'month_of_year', 'utm_campaign_source',\n",
       "       'utm_campaign_name', 'utm_campaign_medium', 'marketing_event_target',\n",
       "       'quarter', 'total_visitors', 'total_sessions', 'avg_duration',\n",
       "       'total_bounce_rate', 'total_carts', 'total_checkouts',\n",
       "       'total_conversion', 'total_orders_placed', 'total_pageviews'],\n",
       "      dtype='object')"
      ]
     },
     "execution_count": 13,
     "metadata": {},
     "output_type": "execute_result"
    }
   ],
   "source": [
    "df.columns"
   ]
  },
  {
   "cell_type": "code",
   "execution_count": 14,
   "id": "959c889a-303d-4277-a638-c0076c7a1dd5",
   "metadata": {},
   "outputs": [
    {
     "data": {
      "text/plain": [
       "total_bounce_rate  avg_duration\n",
       "1.0                0s              3343\n",
       "0.0                16s               21\n",
       "                   6s                21\n",
       "                   17s               20\n",
       "                   10s               20\n",
       "                                   ... \n",
       "                   25m50s             1\n",
       "                   25m35s             1\n",
       "                   25m11s             1\n",
       "                   25m0s              1\n",
       "                   33m53s             1\n",
       "Length: 722, dtype: int64"
      ]
     },
     "execution_count": 14,
     "metadata": {},
     "output_type": "execute_result"
    }
   ],
   "source": [
    "df[['total_bounce_rate','avg_duration']].value_counts()"
   ]
  },
  {
   "cell_type": "code",
   "execution_count": 15,
   "id": "f1fe8098-5460-4b23-a727-7efc7d7e6bbd",
   "metadata": {},
   "outputs": [
    {
     "data": {
      "text/plain": [
       "0       Desktop\n",
       "1        Mobile\n",
       "2        Mobile\n",
       "3        Mobile\n",
       "4        Mobile\n",
       "         ...   \n",
       "5331    Desktop\n",
       "5332    Desktop\n",
       "5333    Desktop\n",
       "5334    Desktop\n",
       "5335     Mobile\n",
       "Name: ua_form_factor, Length: 5336, dtype: object"
      ]
     },
     "execution_count": 15,
     "metadata": {},
     "output_type": "execute_result"
    }
   ],
   "source": [
    "df['ua_form_factor']"
   ]
  },
  {
   "cell_type": "code",
   "execution_count": 16,
   "id": "5de88fb8-08da-4753-8669-d4efffdcdb4b",
   "metadata": {},
   "outputs": [
    {
     "data": {
      "text/plain": [
       "1.0    62.885628\n",
       "0.0    37.114372\n",
       "Name: total_bounce_rate, dtype: float64"
      ]
     },
     "execution_count": 16,
     "metadata": {},
     "output_type": "execute_result"
    }
   ],
   "source": [
    "br = df.loc[df['total_bounce_rate'] != 0.8]\n",
    "brs = br.loc[br['total_bounce_rate'] != 0.5]\n",
    "brs['total_bounce_rate'].value_counts(normalize=True) * 100\n",
    "# brs['referrer_host'].value_counts()"
   ]
  },
  {
   "cell_type": "code",
   "execution_count": 62,
   "id": "3a213dbb-fcdd-4e58-bec8-aea6ba4eab5d",
   "metadata": {},
   "outputs": [],
   "source": [
    "us.to_csv('campaign.csv', index=False)"
   ]
  },
  {
   "cell_type": "code",
   "execution_count": 18,
   "id": "c0267f0e-99b5-41b7-8ba9-5d3cef18dd42",
   "metadata": {},
   "outputs": [
    {
     "data": {
      "text/plain": [
       "1.0    55.615293\n",
       "0.0    43.936679\n",
       "0.5     0.418160\n",
       "0.8     0.029869\n",
       "Name: total_bounce_rate, dtype: float64"
      ]
     },
     "execution_count": 18,
     "metadata": {},
     "output_type": "execute_result"
    }
   ],
   "source": [
    "mob = df.loc[df['ua_form_factor'] == 'Mobile']\n",
    "mob['total_bounce_rate'].value_counts(normalize=True) * 100"
   ]
  },
  {
   "cell_type": "code",
   "execution_count": 19,
   "id": "4c49b52f-3458-4ca5-9ffc-78501e901d59",
   "metadata": {},
   "outputs": [
    {
     "data": {
      "text/plain": [
       "1.0    75.599129\n",
       "0.0    24.128540\n",
       "0.5     0.272331\n",
       "Name: total_bounce_rate, dtype: float64"
      ]
     },
     "execution_count": 19,
     "metadata": {},
     "output_type": "execute_result"
    }
   ],
   "source": [
    "web = df.loc[df['ua_form_factor'] == 'Desktop']\n",
    "web['total_bounce_rate'].value_counts(normalize=True) * 100"
   ]
  },
  {
   "cell_type": "code",
   "execution_count": null,
   "id": "cfd1226f-f4ed-41d0-bef8-30abe5701c0b",
   "metadata": {},
   "outputs": [],
   "source": []
  },
  {
   "cell_type": "code",
   "execution_count": 20,
   "id": "8636eacf-f721-4e82-a51a-f6bb4cc5cc46",
   "metadata": {},
   "outputs": [
    {
     "data": {
      "text/plain": [
       "0       Desktop\n",
       "1        Mobile\n",
       "2        Mobile\n",
       "3        Mobile\n",
       "4        Mobile\n",
       "         ...   \n",
       "5331    Desktop\n",
       "5332    Desktop\n",
       "5333    Desktop\n",
       "5334    Desktop\n",
       "5335     Mobile\n",
       "Name: ua_form_factor, Length: 5336, dtype: object"
      ]
     },
     "execution_count": 20,
     "metadata": {},
     "output_type": "execute_result"
    }
   ],
   "source": [
    "df['ua_form_factor']"
   ]
  },
  {
   "cell_type": "code",
   "execution_count": 21,
   "id": "eb56e5bc-ec06-4fec-b5a8-d6b41d6b6e34",
   "metadata": {},
   "outputs": [
    {
     "data": {
      "text/plain": [
       "total_conversion  avg_duration\n",
       "0.0               0s              3354\n",
       "                  16s               21\n",
       "                  6s                21\n",
       "                  19s               20\n",
       "                  17s               20\n",
       "                                  ... \n",
       "                  18m27s             1\n",
       "                  3m5s               1\n",
       "                  18m31s             1\n",
       "                  3m57s              1\n",
       "1.0               9m5s               1\n",
       "Length: 754, dtype: int64"
      ]
     },
     "execution_count": 21,
     "metadata": {},
     "output_type": "execute_result"
    }
   ],
   "source": [
    "brs[['total_conversion', 'avg_duration']].value_counts()"
   ]
  },
  {
   "cell_type": "code",
   "execution_count": 22,
   "id": "ca80dde3-5cfe-479e-9aa4-6ce3035f59c7",
   "metadata": {},
   "outputs": [],
   "source": [
    "# def bars(col):\n",
    "    \n",
    "#     plt.plot(col, data= brs, alpha=0.5, label='bounce');\n",
    "#     # plt.hist(col, data= brs.loc[brs['total_bounce_rate'] == 0.0], alpha=0.5, label='not bounce');\n",
    "#     plt.title('Distribution');\n",
    "#     plt.xlabel(col);\n",
    "#     plt.legend();\n",
    "#     return plt.show()\n",
    "# bars('avg_duration')"
   ]
  },
  {
   "cell_type": "code",
   "execution_count": 23,
   "id": "bc03ff27-5743-4d4e-8943-2202f7701d66",
   "metadata": {},
   "outputs": [
    {
     "data": {
      "text/plain": [
       "google            67\n",
       "abandoned_cart    13\n",
       "shop_app           9\n",
       "facebook           6\n",
       "clubhouse          4\n",
       "judgeme            2\n",
       "IGShopping         1\n",
       "Abandoned_cart     1\n",
       "Name: utm_campaign_source, dtype: int64"
      ]
     },
     "execution_count": 23,
     "metadata": {},
     "output_type": "execute_result"
    }
   ],
   "source": [
    "brs['utm_campaign_source'].value_counts()"
   ]
  },
  {
   "cell_type": "code",
   "execution_count": 24,
   "id": "97e5afa6-048d-4ace-8b15-0dda38fc3a3b",
   "metadata": {},
   "outputs": [
    {
     "data": {
      "text/plain": [
       "google            68\n",
       "abandoned_cart    13\n",
       "shop_app           9\n",
       "facebook           6\n",
       "clubhouse          4\n",
       "judgeme            2\n",
       "IGShopping         1\n",
       "Abandoned_cart     1\n",
       "Name: utm_campaign_source, dtype: int64"
      ]
     },
     "execution_count": 24,
     "metadata": {},
     "output_type": "execute_result"
    }
   ],
   "source": [
    "br['utm_campaign_source'].value_counts()"
   ]
  },
  {
   "cell_type": "code",
   "execution_count": 25,
   "id": "51590c17-df18-4faa-b60c-48d84cba6097",
   "metadata": {},
   "outputs": [
    {
     "data": {
      "text/plain": [
       "1     5263\n",
       "2       67\n",
       "3        3\n",
       "10       1\n",
       "4        1\n",
       "5        1\n",
       "Name: total_visitors, dtype: int64"
      ]
     },
     "execution_count": 25,
     "metadata": {},
     "output_type": "execute_result"
    }
   ],
   "source": [
    "df['total_visitors'].value_counts()"
   ]
  },
  {
   "cell_type": "code",
   "execution_count": 26,
   "id": "aa4e4eb0-9db1-44de-a58f-9157f8795b4c",
   "metadata": {},
   "outputs": [
    {
     "data": {
      "text/plain": [
       "0.0    278\n",
       "1.0     14\n",
       "Name: total_bounce_rate, dtype: int64"
      ]
     },
     "execution_count": 26,
     "metadata": {},
     "output_type": "execute_result"
    }
   ],
   "source": [
    "convert['total_bounce_rate'].value_counts()"
   ]
  },
  {
   "cell_type": "code",
   "execution_count": 27,
   "id": "3dbc3970-ff57-47ab-a9b6-5f9d3b8403d8",
   "metadata": {},
   "outputs": [
    {
     "data": {
      "text/plain": [
       "0.7478312892611427"
      ]
     },
     "execution_count": 27,
     "metadata": {},
     "output_type": "execute_result"
    }
   ],
   "source": [
    "2500/3343"
   ]
  },
  {
   "cell_type": "code",
   "execution_count": 28,
   "id": "700fe05a-0e56-4a0f-ac0c-6efe920cf5e1",
   "metadata": {},
   "outputs": [
    {
     "data": {
      "text/plain": [
       "1.0    62.649925\n",
       "0.0    36.975262\n",
       "0.5     0.356072\n",
       "0.8     0.018741\n",
       "Name: total_bounce_rate, dtype: float64"
      ]
     },
     "execution_count": 28,
     "metadata": {},
     "output_type": "execute_result"
    }
   ],
   "source": [
    "df['total_bounce_rate'].value_counts(normalize=True) * 100"
   ]
  },
  {
   "cell_type": "code",
   "execution_count": 29,
   "id": "048eea27-23b9-4b3f-92c9-4517d52135b4",
   "metadata": {},
   "outputs": [
    {
     "data": {
      "text/plain": [
       "1973"
      ]
     },
     "execution_count": 29,
     "metadata": {},
     "output_type": "execute_result"
    }
   ],
   "source": [
    "df['total_bounce_rate'].value_counts()[0]"
   ]
  },
  {
   "cell_type": "code",
   "execution_count": 30,
   "id": "91965e3b-b00a-4bac-98f6-d6da6c08ef0d",
   "metadata": {},
   "outputs": [
    {
     "data": {
      "text/plain": [
       "3343"
      ]
     },
     "execution_count": 30,
     "metadata": {},
     "output_type": "execute_result"
    }
   ],
   "source": [
    "df['total_bounce_rate'].value_counts()[1]"
   ]
  },
  {
   "cell_type": "code",
   "execution_count": 31,
   "id": "2a327269-edc5-4c35-9f14-a7743b1b634f",
   "metadata": {},
   "outputs": [
    {
     "data": {
      "text/plain": [
       "0.5901884534848938"
      ]
     },
     "execution_count": 31,
     "metadata": {},
     "output_type": "execute_result"
    }
   ],
   "source": [
    "df['total_bounce_rate'].value_counts()[0]/df['total_bounce_rate'].value_counts()[1]"
   ]
  },
  {
   "cell_type": "code",
   "execution_count": 32,
   "id": "a000c8c0-8d7f-404a-86fa-25ab7e002757",
   "metadata": {},
   "outputs": [
    {
     "data": {
      "text/plain": [
       "(5336, 41)"
      ]
     },
     "execution_count": 32,
     "metadata": {},
     "output_type": "execute_result"
    }
   ],
   "source": [
    "df.shape"
   ]
  },
  {
   "cell_type": "code",
   "execution_count": 33,
   "id": "21b9b5b1-b3cf-4e07-88c6-f62490c95e55",
   "metadata": {},
   "outputs": [
    {
     "data": {
      "text/plain": [
       "Index(['location_country', 'location_city', 'ua_form_factor',\n",
       "       'ua_browser_version', 'ua_browser', 'ua_os_version', 'ua_os',\n",
       "       'page_path', 'page_resource_id', 'page_type', 'page_url',\n",
       "       'location_region', 'marketing_event_type', 'referrer_host',\n",
       "       'referrer_name', 'referrer_path', 'referrer_source', 'referrer_terms',\n",
       "       'referrer_url', 'hour', 'day', 'week', 'month', 'hour_of_day',\n",
       "       'day_of_week', 'year', 'month_of_year', 'utm_campaign_source',\n",
       "       'utm_campaign_name', 'utm_campaign_medium', 'marketing_event_target',\n",
       "       'quarter', 'total_visitors', 'total_sessions', 'avg_duration',\n",
       "       'total_bounce_rate', 'total_carts', 'total_checkouts',\n",
       "       'total_conversion', 'total_orders_placed', 'total_pageviews'],\n",
       "      dtype='object')"
      ]
     },
     "execution_count": 33,
     "metadata": {},
     "output_type": "execute_result"
    }
   ],
   "source": [
    "df.columns"
   ]
  },
  {
   "cell_type": "code",
   "execution_count": null,
   "id": "745de07b-b56c-4471-bfdb-b1ee770877dc",
   "metadata": {},
   "outputs": [],
   "source": []
  },
  {
   "cell_type": "code",
   "execution_count": 34,
   "id": "24e12478-4acf-44fe-9376-073684c141cb",
   "metadata": {},
   "outputs": [
    {
     "data": {
      "text/plain": [
       "sag_organic              9\n",
       "shopify_cart_reminder    2\n",
       "Name: utm_campaign_name, dtype: int64"
      ]
     },
     "execution_count": 34,
     "metadata": {},
     "output_type": "execute_result"
    }
   ],
   "source": [
    "convert['utm_campaign_name'].value_counts()"
   ]
  },
  {
   "cell_type": "code",
   "execution_count": 35,
   "id": "175282a6-660c-42b4-8079-cc8591ed0ae7",
   "metadata": {},
   "outputs": [
    {
     "data": {
      "text/plain": [
       "product_sync    9\n",
       "email           2\n",
       "Name: utm_campaign_medium, dtype: int64"
      ]
     },
     "execution_count": 35,
     "metadata": {},
     "output_type": "execute_result"
    }
   ],
   "source": [
    "convert['utm_campaign_medium'].value_counts()"
   ]
  },
  {
   "cell_type": "code",
   "execution_count": 36,
   "id": "32b877c8-b697-4653-92be-8be39703155e",
   "metadata": {},
   "outputs": [
    {
     "data": {
      "text/plain": [
       "google            9\n",
       "abandoned_cart    2\n",
       "facebook          2\n",
       "Name: utm_campaign_source, dtype: int64"
      ]
     },
     "execution_count": 36,
     "metadata": {},
     "output_type": "execute_result"
    }
   ],
   "source": [
    "convert['utm_campaign_source'].value_counts()"
   ]
  },
  {
   "cell_type": "code",
   "execution_count": 37,
   "id": "26c2cc46-4dee-4bb6-9de4-0af5fb5e1581",
   "metadata": {},
   "outputs": [
    {
     "data": {
      "text/plain": [
       "abandoned_cart    2\n",
       "Name: marketing_event_type, dtype: int64"
      ]
     },
     "execution_count": 37,
     "metadata": {},
     "output_type": "execute_result"
    }
   ],
   "source": [
    "convert['marketing_event_type'].value_counts()"
   ]
  },
  {
   "cell_type": "code",
   "execution_count": 51,
   "id": "7fbaaa03-c357-488c-a23f-aa9cc0139c07",
   "metadata": {},
   "outputs": [
    {
     "data": {
      "text/html": [
       "<div>\n",
       "<style scoped>\n",
       "    .dataframe tbody tr th:only-of-type {\n",
       "        vertical-align: middle;\n",
       "    }\n",
       "\n",
       "    .dataframe tbody tr th {\n",
       "        vertical-align: top;\n",
       "    }\n",
       "\n",
       "    .dataframe thead th {\n",
       "        text-align: right;\n",
       "    }\n",
       "</style>\n",
       "<table border=\"1\" class=\"dataframe\">\n",
       "  <thead>\n",
       "    <tr style=\"text-align: right;\">\n",
       "      <th></th>\n",
       "      <th>location_country</th>\n",
       "      <th>location_city</th>\n",
       "      <th>ua_form_factor</th>\n",
       "      <th>ua_browser_version</th>\n",
       "      <th>ua_browser</th>\n",
       "      <th>ua_os_version</th>\n",
       "      <th>ua_os</th>\n",
       "      <th>page_path</th>\n",
       "      <th>page_resource_id</th>\n",
       "      <th>page_type</th>\n",
       "      <th>...</th>\n",
       "      <th>quarter</th>\n",
       "      <th>total_visitors</th>\n",
       "      <th>total_sessions</th>\n",
       "      <th>avg_duration</th>\n",
       "      <th>total_bounce_rate</th>\n",
       "      <th>total_carts</th>\n",
       "      <th>total_checkouts</th>\n",
       "      <th>total_conversion</th>\n",
       "      <th>total_orders_placed</th>\n",
       "      <th>total_pageviews</th>\n",
       "    </tr>\n",
       "  </thead>\n",
       "  <tbody>\n",
       "    <tr>\n",
       "      <th>58</th>\n",
       "      <td>Germany</td>\n",
       "      <td>NaN</td>\n",
       "      <td>Mobile</td>\n",
       "      <td>17</td>\n",
       "      <td>Samsung Internet</td>\n",
       "      <td>12</td>\n",
       "      <td>Android</td>\n",
       "      <td>/checkouts/ac/5278133b7a84803ddb84ae67de12ee24...</td>\n",
       "      <td>NaN</td>\n",
       "      <td>Checkout</td>\n",
       "      <td>...</td>\n",
       "      <td>2022-07</td>\n",
       "      <td>1</td>\n",
       "      <td>1</td>\n",
       "      <td>0s</td>\n",
       "      <td>1.0</td>\n",
       "      <td>0</td>\n",
       "      <td>1</td>\n",
       "      <td>0.0</td>\n",
       "      <td>0</td>\n",
       "      <td>1</td>\n",
       "    </tr>\n",
       "    <tr>\n",
       "      <th>565</th>\n",
       "      <td>United States</td>\n",
       "      <td>Wappingers Falls</td>\n",
       "      <td>Mobile</td>\n",
       "      <td>15</td>\n",
       "      <td>Mobile Safari</td>\n",
       "      <td>15</td>\n",
       "      <td>iOS</td>\n",
       "      <td>/products/copy-of-banner-of-ashura</td>\n",
       "      <td>7.413296e+12</td>\n",
       "      <td>Product</td>\n",
       "      <td>...</td>\n",
       "      <td>2022-07</td>\n",
       "      <td>1</td>\n",
       "      <td>1</td>\n",
       "      <td>1m10s</td>\n",
       "      <td>0.0</td>\n",
       "      <td>0</td>\n",
       "      <td>0</td>\n",
       "      <td>0.0</td>\n",
       "      <td>0</td>\n",
       "      <td>5</td>\n",
       "    </tr>\n",
       "    <tr>\n",
       "      <th>581</th>\n",
       "      <td>United States</td>\n",
       "      <td>Osseo</td>\n",
       "      <td>Mobile</td>\n",
       "      <td>360</td>\n",
       "      <td>Facebook</td>\n",
       "      <td>10</td>\n",
       "      <td>Android</td>\n",
       "      <td>/products/ashab-alkisaa-banner</td>\n",
       "      <td>7.243028e+12</td>\n",
       "      <td>Product</td>\n",
       "      <td>...</td>\n",
       "      <td>2022-04</td>\n",
       "      <td>1</td>\n",
       "      <td>1</td>\n",
       "      <td>0s</td>\n",
       "      <td>1.0</td>\n",
       "      <td>0</td>\n",
       "      <td>0</td>\n",
       "      <td>0.0</td>\n",
       "      <td>0</td>\n",
       "      <td>1</td>\n",
       "    </tr>\n",
       "    <tr>\n",
       "      <th>740</th>\n",
       "      <td>United States</td>\n",
       "      <td>Phoenix</td>\n",
       "      <td>Mobile</td>\n",
       "      <td>100</td>\n",
       "      <td>Chrome Mobile</td>\n",
       "      <td>11</td>\n",
       "      <td>Android</td>\n",
       "      <td>/products/qableh</td>\n",
       "      <td>6.977721e+12</td>\n",
       "      <td>Product</td>\n",
       "      <td>...</td>\n",
       "      <td>2022-04</td>\n",
       "      <td>1</td>\n",
       "      <td>1</td>\n",
       "      <td>20s</td>\n",
       "      <td>0.0</td>\n",
       "      <td>0</td>\n",
       "      <td>0</td>\n",
       "      <td>0.0</td>\n",
       "      <td>0</td>\n",
       "      <td>2</td>\n",
       "    </tr>\n",
       "    <tr>\n",
       "      <th>768</th>\n",
       "      <td>United States</td>\n",
       "      <td>Toledo</td>\n",
       "      <td>Other</td>\n",
       "      <td>Other</td>\n",
       "      <td>Other</td>\n",
       "      <td>Other</td>\n",
       "      <td>Other</td>\n",
       "      <td>/products/imam-hussain-shrine-with-multicolor-...</td>\n",
       "      <td>6.589688e+12</td>\n",
       "      <td>Product</td>\n",
       "      <td>...</td>\n",
       "      <td>2022-07</td>\n",
       "      <td>1</td>\n",
       "      <td>1</td>\n",
       "      <td>11m16s</td>\n",
       "      <td>0.0</td>\n",
       "      <td>1</td>\n",
       "      <td>1</td>\n",
       "      <td>1.0</td>\n",
       "      <td>1</td>\n",
       "      <td>22</td>\n",
       "    </tr>\n",
       "    <tr>\n",
       "      <th>...</th>\n",
       "      <td>...</td>\n",
       "      <td>...</td>\n",
       "      <td>...</td>\n",
       "      <td>...</td>\n",
       "      <td>...</td>\n",
       "      <td>...</td>\n",
       "      <td>...</td>\n",
       "      <td>...</td>\n",
       "      <td>...</td>\n",
       "      <td>...</td>\n",
       "      <td>...</td>\n",
       "      <td>...</td>\n",
       "      <td>...</td>\n",
       "      <td>...</td>\n",
       "      <td>...</td>\n",
       "      <td>...</td>\n",
       "      <td>...</td>\n",
       "      <td>...</td>\n",
       "      <td>...</td>\n",
       "      <td>...</td>\n",
       "      <td>...</td>\n",
       "    </tr>\n",
       "    <tr>\n",
       "      <th>4585</th>\n",
       "      <td>United Kingdom</td>\n",
       "      <td>London</td>\n",
       "      <td>Desktop</td>\n",
       "      <td>104</td>\n",
       "      <td>Edge</td>\n",
       "      <td>10</td>\n",
       "      <td>Windows</td>\n",
       "      <td>NaN</td>\n",
       "      <td>NaN</td>\n",
       "      <td>Homepage</td>\n",
       "      <td>...</td>\n",
       "      <td>2022-07</td>\n",
       "      <td>1</td>\n",
       "      <td>1</td>\n",
       "      <td>24s</td>\n",
       "      <td>0.0</td>\n",
       "      <td>1</td>\n",
       "      <td>1</td>\n",
       "      <td>0.0</td>\n",
       "      <td>0</td>\n",
       "      <td>4</td>\n",
       "    </tr>\n",
       "    <tr>\n",
       "      <th>4740</th>\n",
       "      <td>Qatar</td>\n",
       "      <td>NaN</td>\n",
       "      <td>Desktop</td>\n",
       "      <td>98</td>\n",
       "      <td>Chrome</td>\n",
       "      <td>10</td>\n",
       "      <td>Windows</td>\n",
       "      <td>/checkouts</td>\n",
       "      <td>NaN</td>\n",
       "      <td>Checkout</td>\n",
       "      <td>...</td>\n",
       "      <td>2022-01</td>\n",
       "      <td>1</td>\n",
       "      <td>1</td>\n",
       "      <td>13s</td>\n",
       "      <td>0.0</td>\n",
       "      <td>0</td>\n",
       "      <td>0</td>\n",
       "      <td>0.0</td>\n",
       "      <td>0</td>\n",
       "      <td>3</td>\n",
       "    </tr>\n",
       "    <tr>\n",
       "      <th>5106</th>\n",
       "      <td>Canada</td>\n",
       "      <td>Brampton</td>\n",
       "      <td>Mobile</td>\n",
       "      <td>15</td>\n",
       "      <td>Mobile Safari</td>\n",
       "      <td>15</td>\n",
       "      <td>iOS</td>\n",
       "      <td>/products/banner-of-imam-hussain-and-his-broth...</td>\n",
       "      <td>7.345037e+12</td>\n",
       "      <td>Product</td>\n",
       "      <td>...</td>\n",
       "      <td>2022-07</td>\n",
       "      <td>1</td>\n",
       "      <td>1</td>\n",
       "      <td>11s</td>\n",
       "      <td>0.0</td>\n",
       "      <td>0</td>\n",
       "      <td>0</td>\n",
       "      <td>0.0</td>\n",
       "      <td>0</td>\n",
       "      <td>2</td>\n",
       "    </tr>\n",
       "    <tr>\n",
       "      <th>5145</th>\n",
       "      <td>Canada</td>\n",
       "      <td>Burlington</td>\n",
       "      <td>Mobile</td>\n",
       "      <td>NaN</td>\n",
       "      <td>Facebook</td>\n",
       "      <td>15</td>\n",
       "      <td>iOS</td>\n",
       "      <td>/products/box2</td>\n",
       "      <td>6.981700e+12</td>\n",
       "      <td>Product</td>\n",
       "      <td>...</td>\n",
       "      <td>2022-01</td>\n",
       "      <td>1</td>\n",
       "      <td>1</td>\n",
       "      <td>16m59s</td>\n",
       "      <td>0.0</td>\n",
       "      <td>1</td>\n",
       "      <td>1</td>\n",
       "      <td>0.0</td>\n",
       "      <td>0</td>\n",
       "      <td>29</td>\n",
       "    </tr>\n",
       "    <tr>\n",
       "      <th>5147</th>\n",
       "      <td>Canada</td>\n",
       "      <td>Burlington</td>\n",
       "      <td>Mobile</td>\n",
       "      <td>15</td>\n",
       "      <td>Mobile Safari</td>\n",
       "      <td>15</td>\n",
       "      <td>iOS</td>\n",
       "      <td>/checkouts</td>\n",
       "      <td>NaN</td>\n",
       "      <td>Checkout</td>\n",
       "      <td>...</td>\n",
       "      <td>2022-01</td>\n",
       "      <td>1</td>\n",
       "      <td>1</td>\n",
       "      <td>4s</td>\n",
       "      <td>0.0</td>\n",
       "      <td>0</td>\n",
       "      <td>0</td>\n",
       "      <td>0.0</td>\n",
       "      <td>0</td>\n",
       "      <td>2</td>\n",
       "    </tr>\n",
       "  </tbody>\n",
       "</table>\n",
       "<p>104 rows × 41 columns</p>\n",
       "</div>"
      ],
      "text/plain": [
       "     location_country     location_city ua_form_factor ua_browser_version  \\\n",
       "58            Germany               NaN         Mobile                 17   \n",
       "565     United States  Wappingers Falls         Mobile                 15   \n",
       "581     United States             Osseo         Mobile                360   \n",
       "740     United States           Phoenix         Mobile                100   \n",
       "768     United States            Toledo          Other              Other   \n",
       "...               ...               ...            ...                ...   \n",
       "4585   United Kingdom            London        Desktop                104   \n",
       "4740            Qatar               NaN        Desktop                 98   \n",
       "5106           Canada          Brampton         Mobile                 15   \n",
       "5145           Canada        Burlington         Mobile                NaN   \n",
       "5147           Canada        Burlington         Mobile                 15   \n",
       "\n",
       "            ua_browser ua_os_version    ua_os  \\\n",
       "58    Samsung Internet            12  Android   \n",
       "565      Mobile Safari            15      iOS   \n",
       "581           Facebook            10  Android   \n",
       "740      Chrome Mobile            11  Android   \n",
       "768              Other         Other    Other   \n",
       "...                ...           ...      ...   \n",
       "4585              Edge            10  Windows   \n",
       "4740            Chrome            10  Windows   \n",
       "5106     Mobile Safari            15      iOS   \n",
       "5145          Facebook            15      iOS   \n",
       "5147     Mobile Safari            15      iOS   \n",
       "\n",
       "                                              page_path  page_resource_id  \\\n",
       "58    /checkouts/ac/5278133b7a84803ddb84ae67de12ee24...               NaN   \n",
       "565                  /products/copy-of-banner-of-ashura      7.413296e+12   \n",
       "581                      /products/ashab-alkisaa-banner      7.243028e+12   \n",
       "740                                    /products/qableh      6.977721e+12   \n",
       "768   /products/imam-hussain-shrine-with-multicolor-...      6.589688e+12   \n",
       "...                                                 ...               ...   \n",
       "4585                                                NaN               NaN   \n",
       "4740                                         /checkouts               NaN   \n",
       "5106  /products/banner-of-imam-hussain-and-his-broth...      7.345037e+12   \n",
       "5145                                     /products/box2      6.981700e+12   \n",
       "5147                                         /checkouts               NaN   \n",
       "\n",
       "     page_type  ...  quarter total_visitors total_sessions avg_duration  \\\n",
       "58    Checkout  ...  2022-07              1              1           0s   \n",
       "565    Product  ...  2022-07              1              1        1m10s   \n",
       "581    Product  ...  2022-04              1              1           0s   \n",
       "740    Product  ...  2022-04              1              1          20s   \n",
       "768    Product  ...  2022-07              1              1       11m16s   \n",
       "...        ...  ...      ...            ...            ...          ...   \n",
       "4585  Homepage  ...  2022-07              1              1          24s   \n",
       "4740  Checkout  ...  2022-01              1              1          13s   \n",
       "5106   Product  ...  2022-07              1              1          11s   \n",
       "5145   Product  ...  2022-01              1              1       16m59s   \n",
       "5147  Checkout  ...  2022-01              1              1           4s   \n",
       "\n",
       "     total_bounce_rate total_carts total_checkouts  total_conversion  \\\n",
       "58                 1.0           0               1               0.0   \n",
       "565                0.0           0               0               0.0   \n",
       "581                1.0           0               0               0.0   \n",
       "740                0.0           0               0               0.0   \n",
       "768                0.0           1               1               1.0   \n",
       "...                ...         ...             ...               ...   \n",
       "4585               0.0           1               1               0.0   \n",
       "4740               0.0           0               0               0.0   \n",
       "5106               0.0           0               0               0.0   \n",
       "5145               0.0           1               1               0.0   \n",
       "5147               0.0           0               0               0.0   \n",
       "\n",
       "     total_orders_placed total_pageviews  \n",
       "58                     0               1  \n",
       "565                    0               5  \n",
       "581                    0               1  \n",
       "740                    0               2  \n",
       "768                    1              22  \n",
       "...                  ...             ...  \n",
       "4585                   0               4  \n",
       "4740                   0               3  \n",
       "5106                   0               2  \n",
       "5145                   0              29  \n",
       "5147                   0               2  \n",
       "\n",
       "[104 rows x 41 columns]"
      ]
     },
     "execution_count": 51,
     "metadata": {},
     "output_type": "execute_result"
    }
   ],
   "source": [
    "us = df.loc[df['utm_campaign_source'].notnull()]\n",
    "us"
   ]
  },
  {
   "cell_type": "code",
   "execution_count": 63,
   "id": "8213b914-8251-40e7-99a5-dd1d43843bec",
   "metadata": {},
   "outputs": [
    {
     "data": {
      "text/plain": [
       "google            68\n",
       "abandoned_cart    13\n",
       "shop_app           9\n",
       "facebook           6\n",
       "clubhouse          4\n",
       "judgeme            2\n",
       "IGShopping         1\n",
       "Abandoned_cart     1\n",
       "Name: utm_campaign_source, dtype: int64"
      ]
     },
     "execution_count": 63,
     "metadata": {},
     "output_type": "execute_result"
    }
   ],
   "source": [
    "df['utm_campaign_source'].value_counts()\n",
    "\n",
    "us = convert.loc[df['utm_campaign_source'].notnull()]\n",
    "\n",
    "# len(us)/len(convert) *100\n",
    "df['utm_campaign_source'].value_counts()\n",
    "# print(us['utm_campaign_source'].value_counts())\n",
    "# for col in us.columns:\n",
    "    \n",
    "    # print(f'Column : {col}\\n{((us[col].value_counts()/convert[col].value_counts())*100).sort_values(ascending = False)}')"
   ]
  },
  {
   "cell_type": "code",
   "execution_count": 64,
   "id": "79a3876e-077d-4d25-95ab-a3c6c5fef282",
   "metadata": {},
   "outputs": [
    {
     "ename": "ValueError",
     "evalue": "shape mismatch: objects cannot be broadcast to a single shape",
     "output_type": "error",
     "traceback": [
      "\u001b[1;31m---------------------------------------------------------------------------\u001b[0m",
      "\u001b[1;31mValueError\u001b[0m                                Traceback (most recent call last)",
      "Input \u001b[1;32mIn [64]\u001b[0m, in \u001b[0;36m<cell line: 3>\u001b[1;34m()\u001b[0m\n\u001b[0;32m      1\u001b[0m \u001b[38;5;66;03m# genders= list(df.loc[(df[\"Survived\"]>0),\"Sex\"].value_counts().keys())\u001b[39;00m\n\u001b[0;32m      2\u001b[0m \u001b[38;5;66;03m# survivors = list(df.loc[(df[\"Survived\"]>0),\"Sex\"].value_counts())\u001b[39;00m\n\u001b[1;32m----> 3\u001b[0m \u001b[43mplt\u001b[49m\u001b[38;5;241;43m.\u001b[39;49m\u001b[43mbar\u001b[49m\u001b[43m(\u001b[49m\u001b[43mus\u001b[49m\u001b[43m[\u001b[49m\u001b[38;5;124;43m'\u001b[39;49m\u001b[38;5;124;43mlocation_country\u001b[39;49m\u001b[38;5;124;43m'\u001b[39;49m\u001b[43m]\u001b[49m\u001b[43m,\u001b[49m\u001b[43m \u001b[49m\u001b[43mconvert\u001b[49m\u001b[43m[\u001b[49m\u001b[38;5;124;43m'\u001b[39;49m\u001b[38;5;124;43mlocation_country\u001b[39;49m\u001b[38;5;124;43m'\u001b[39;49m\u001b[43m]\u001b[49m\u001b[43m,\u001b[49m\u001b[43m \u001b[49m\u001b[43mcolor\u001b[49m\u001b[43m \u001b[49m\u001b[38;5;241;43m=\u001b[39;49m\u001b[43m(\u001b[49m\u001b[38;5;124;43m'\u001b[39;49m\u001b[38;5;124;43mgreen\u001b[39;49m\u001b[38;5;124;43m'\u001b[39;49m\u001b[43m,\u001b[49m\u001b[38;5;124;43m'\u001b[39;49m\u001b[38;5;124;43mbrown\u001b[39;49m\u001b[38;5;124;43m'\u001b[39;49m\u001b[43m)\u001b[49m\u001b[43m,\u001b[49m\n\u001b[0;32m      4\u001b[0m \u001b[43m        \u001b[49m\u001b[43mwidth\u001b[49m\u001b[43m \u001b[49m\u001b[38;5;241;43m=\u001b[39;49m\u001b[43m \u001b[49m\u001b[38;5;241;43m0.4\u001b[39;49m\u001b[43m)\u001b[49m\n\u001b[0;32m      5\u001b[0m plt\u001b[38;5;241m.\u001b[39mxlabel(\u001b[38;5;124m\"\u001b[39m\u001b[38;5;124mGenders\u001b[39m\u001b[38;5;124m\"\u001b[39m)\n\u001b[0;32m      6\u001b[0m plt\u001b[38;5;241m.\u001b[39mylabel(\u001b[38;5;124m\"\u001b[39m\u001b[38;5;124mCount of Survivors\u001b[39m\u001b[38;5;124m\"\u001b[39m)\n",
      "File \u001b[1;32m~\\anaconda3\\lib\\site-packages\\matplotlib\\pyplot.py:2387\u001b[0m, in \u001b[0;36mbar\u001b[1;34m(x, height, width, bottom, align, data, **kwargs)\u001b[0m\n\u001b[0;32m   2383\u001b[0m \u001b[38;5;129m@_copy_docstring_and_deprecators\u001b[39m(Axes\u001b[38;5;241m.\u001b[39mbar)\n\u001b[0;32m   2384\u001b[0m \u001b[38;5;28;01mdef\u001b[39;00m \u001b[38;5;21mbar\u001b[39m(\n\u001b[0;32m   2385\u001b[0m         x, height, width\u001b[38;5;241m=\u001b[39m\u001b[38;5;241m0.8\u001b[39m, bottom\u001b[38;5;241m=\u001b[39m\u001b[38;5;28;01mNone\u001b[39;00m, \u001b[38;5;241m*\u001b[39m, align\u001b[38;5;241m=\u001b[39m\u001b[38;5;124m'\u001b[39m\u001b[38;5;124mcenter\u001b[39m\u001b[38;5;124m'\u001b[39m,\n\u001b[0;32m   2386\u001b[0m         data\u001b[38;5;241m=\u001b[39m\u001b[38;5;28;01mNone\u001b[39;00m, \u001b[38;5;241m*\u001b[39m\u001b[38;5;241m*\u001b[39mkwargs):\n\u001b[1;32m-> 2387\u001b[0m     \u001b[38;5;28;01mreturn\u001b[39;00m gca()\u001b[38;5;241m.\u001b[39mbar(\n\u001b[0;32m   2388\u001b[0m         x, height, width\u001b[38;5;241m=\u001b[39mwidth, bottom\u001b[38;5;241m=\u001b[39mbottom, align\u001b[38;5;241m=\u001b[39malign,\n\u001b[0;32m   2389\u001b[0m         \u001b[38;5;241m*\u001b[39m\u001b[38;5;241m*\u001b[39m({\u001b[38;5;124m\"\u001b[39m\u001b[38;5;124mdata\u001b[39m\u001b[38;5;124m\"\u001b[39m: data} \u001b[38;5;28;01mif\u001b[39;00m data \u001b[38;5;129;01mis\u001b[39;00m \u001b[38;5;129;01mnot\u001b[39;00m \u001b[38;5;28;01mNone\u001b[39;00m \u001b[38;5;28;01melse\u001b[39;00m {}), \u001b[38;5;241m*\u001b[39m\u001b[38;5;241m*\u001b[39mkwargs)\n",
      "File \u001b[1;32m~\\anaconda3\\lib\\site-packages\\matplotlib\\__init__.py:1412\u001b[0m, in \u001b[0;36m_preprocess_data.<locals>.inner\u001b[1;34m(ax, data, *args, **kwargs)\u001b[0m\n\u001b[0;32m   1409\u001b[0m \u001b[38;5;129m@functools\u001b[39m\u001b[38;5;241m.\u001b[39mwraps(func)\n\u001b[0;32m   1410\u001b[0m \u001b[38;5;28;01mdef\u001b[39;00m \u001b[38;5;21minner\u001b[39m(ax, \u001b[38;5;241m*\u001b[39margs, data\u001b[38;5;241m=\u001b[39m\u001b[38;5;28;01mNone\u001b[39;00m, \u001b[38;5;241m*\u001b[39m\u001b[38;5;241m*\u001b[39mkwargs):\n\u001b[0;32m   1411\u001b[0m     \u001b[38;5;28;01mif\u001b[39;00m data \u001b[38;5;129;01mis\u001b[39;00m \u001b[38;5;28;01mNone\u001b[39;00m:\n\u001b[1;32m-> 1412\u001b[0m         \u001b[38;5;28;01mreturn\u001b[39;00m func(ax, \u001b[38;5;241m*\u001b[39m\u001b[38;5;28mmap\u001b[39m(sanitize_sequence, args), \u001b[38;5;241m*\u001b[39m\u001b[38;5;241m*\u001b[39mkwargs)\n\u001b[0;32m   1414\u001b[0m     bound \u001b[38;5;241m=\u001b[39m new_sig\u001b[38;5;241m.\u001b[39mbind(ax, \u001b[38;5;241m*\u001b[39margs, \u001b[38;5;241m*\u001b[39m\u001b[38;5;241m*\u001b[39mkwargs)\n\u001b[0;32m   1415\u001b[0m     auto_label \u001b[38;5;241m=\u001b[39m (bound\u001b[38;5;241m.\u001b[39marguments\u001b[38;5;241m.\u001b[39mget(label_namer)\n\u001b[0;32m   1416\u001b[0m                   \u001b[38;5;129;01mor\u001b[39;00m bound\u001b[38;5;241m.\u001b[39mkwargs\u001b[38;5;241m.\u001b[39mget(label_namer))\n",
      "File \u001b[1;32m~\\anaconda3\\lib\\site-packages\\matplotlib\\axes\\_axes.py:2342\u001b[0m, in \u001b[0;36mAxes.bar\u001b[1;34m(self, x, height, width, bottom, align, **kwargs)\u001b[0m\n\u001b[0;32m   2339\u001b[0m     \u001b[38;5;28;01mif\u001b[39;00m yerr \u001b[38;5;129;01mis\u001b[39;00m \u001b[38;5;129;01mnot\u001b[39;00m \u001b[38;5;28;01mNone\u001b[39;00m:\n\u001b[0;32m   2340\u001b[0m         yerr \u001b[38;5;241m=\u001b[39m \u001b[38;5;28mself\u001b[39m\u001b[38;5;241m.\u001b[39m_convert_dx(yerr, y0, y, \u001b[38;5;28mself\u001b[39m\u001b[38;5;241m.\u001b[39mconvert_yunits)\n\u001b[1;32m-> 2342\u001b[0m x, height, width, y, linewidth, hatch \u001b[38;5;241m=\u001b[39m \u001b[43mnp\u001b[49m\u001b[38;5;241;43m.\u001b[39;49m\u001b[43mbroadcast_arrays\u001b[49m\u001b[43m(\u001b[49m\n\u001b[0;32m   2343\u001b[0m \u001b[43m    \u001b[49m\u001b[38;5;66;43;03m# Make args iterable too.\u001b[39;49;00m\n\u001b[0;32m   2344\u001b[0m \u001b[43m    \u001b[49m\u001b[43mnp\u001b[49m\u001b[38;5;241;43m.\u001b[39;49m\u001b[43matleast_1d\u001b[49m\u001b[43m(\u001b[49m\u001b[43mx\u001b[49m\u001b[43m)\u001b[49m\u001b[43m,\u001b[49m\u001b[43m \u001b[49m\u001b[43mheight\u001b[49m\u001b[43m,\u001b[49m\u001b[43m \u001b[49m\u001b[43mwidth\u001b[49m\u001b[43m,\u001b[49m\u001b[43m \u001b[49m\u001b[43my\u001b[49m\u001b[43m,\u001b[49m\u001b[43m \u001b[49m\u001b[43mlinewidth\u001b[49m\u001b[43m,\u001b[49m\u001b[43m \u001b[49m\u001b[43mhatch\u001b[49m\u001b[43m)\u001b[49m\n\u001b[0;32m   2346\u001b[0m \u001b[38;5;66;03m# Now that units have been converted, set the tick locations.\u001b[39;00m\n\u001b[0;32m   2347\u001b[0m \u001b[38;5;28;01mif\u001b[39;00m orientation \u001b[38;5;241m==\u001b[39m \u001b[38;5;124m'\u001b[39m\u001b[38;5;124mvertical\u001b[39m\u001b[38;5;124m'\u001b[39m:\n",
      "File \u001b[1;32m<__array_function__ internals>:5\u001b[0m, in \u001b[0;36mbroadcast_arrays\u001b[1;34m(*args, **kwargs)\u001b[0m\n",
      "File \u001b[1;32m~\\anaconda3\\lib\\site-packages\\numpy\\lib\\stride_tricks.py:538\u001b[0m, in \u001b[0;36mbroadcast_arrays\u001b[1;34m(subok, *args)\u001b[0m\n\u001b[0;32m    531\u001b[0m \u001b[38;5;66;03m# nditer is not used here to avoid the limit of 32 arrays.\u001b[39;00m\n\u001b[0;32m    532\u001b[0m \u001b[38;5;66;03m# Otherwise, something like the following one-liner would suffice:\u001b[39;00m\n\u001b[0;32m    533\u001b[0m \u001b[38;5;66;03m# return np.nditer(args, flags=['multi_index', 'zerosize_ok'],\u001b[39;00m\n\u001b[0;32m    534\u001b[0m \u001b[38;5;66;03m#                  order='C').itviews\u001b[39;00m\n\u001b[0;32m    536\u001b[0m args \u001b[38;5;241m=\u001b[39m [np\u001b[38;5;241m.\u001b[39marray(_m, copy\u001b[38;5;241m=\u001b[39m\u001b[38;5;28;01mFalse\u001b[39;00m, subok\u001b[38;5;241m=\u001b[39msubok) \u001b[38;5;28;01mfor\u001b[39;00m _m \u001b[38;5;129;01min\u001b[39;00m args]\n\u001b[1;32m--> 538\u001b[0m shape \u001b[38;5;241m=\u001b[39m \u001b[43m_broadcast_shape\u001b[49m\u001b[43m(\u001b[49m\u001b[38;5;241;43m*\u001b[39;49m\u001b[43margs\u001b[49m\u001b[43m)\u001b[49m\n\u001b[0;32m    540\u001b[0m \u001b[38;5;28;01mif\u001b[39;00m \u001b[38;5;28mall\u001b[39m(array\u001b[38;5;241m.\u001b[39mshape \u001b[38;5;241m==\u001b[39m shape \u001b[38;5;28;01mfor\u001b[39;00m array \u001b[38;5;129;01min\u001b[39;00m args):\n\u001b[0;32m    541\u001b[0m     \u001b[38;5;66;03m# Common case where nothing needs to be broadcasted.\u001b[39;00m\n\u001b[0;32m    542\u001b[0m     \u001b[38;5;28;01mreturn\u001b[39;00m args\n",
      "File \u001b[1;32m~\\anaconda3\\lib\\site-packages\\numpy\\lib\\stride_tricks.py:420\u001b[0m, in \u001b[0;36m_broadcast_shape\u001b[1;34m(*args)\u001b[0m\n\u001b[0;32m    415\u001b[0m \u001b[38;5;124;03m\"\"\"Returns the shape of the arrays that would result from broadcasting the\u001b[39;00m\n\u001b[0;32m    416\u001b[0m \u001b[38;5;124;03msupplied arrays against each other.\u001b[39;00m\n\u001b[0;32m    417\u001b[0m \u001b[38;5;124;03m\"\"\"\u001b[39;00m\n\u001b[0;32m    418\u001b[0m \u001b[38;5;66;03m# use the old-iterator because np.nditer does not handle size 0 arrays\u001b[39;00m\n\u001b[0;32m    419\u001b[0m \u001b[38;5;66;03m# consistently\u001b[39;00m\n\u001b[1;32m--> 420\u001b[0m b \u001b[38;5;241m=\u001b[39m \u001b[43mnp\u001b[49m\u001b[38;5;241;43m.\u001b[39;49m\u001b[43mbroadcast\u001b[49m\u001b[43m(\u001b[49m\u001b[38;5;241;43m*\u001b[39;49m\u001b[43margs\u001b[49m\u001b[43m[\u001b[49m\u001b[43m:\u001b[49m\u001b[38;5;241;43m32\u001b[39;49m\u001b[43m]\u001b[49m\u001b[43m)\u001b[49m\n\u001b[0;32m    421\u001b[0m \u001b[38;5;66;03m# unfortunately, it cannot handle 32 or more arguments directly\u001b[39;00m\n\u001b[0;32m    422\u001b[0m \u001b[38;5;28;01mfor\u001b[39;00m pos \u001b[38;5;129;01min\u001b[39;00m \u001b[38;5;28mrange\u001b[39m(\u001b[38;5;241m32\u001b[39m, \u001b[38;5;28mlen\u001b[39m(args), \u001b[38;5;241m31\u001b[39m):\n\u001b[0;32m    423\u001b[0m     \u001b[38;5;66;03m# ironically, np.broadcast does not properly handle np.broadcast\u001b[39;00m\n\u001b[0;32m    424\u001b[0m     \u001b[38;5;66;03m# objects (it treats them as scalars)\u001b[39;00m\n\u001b[0;32m    425\u001b[0m     \u001b[38;5;66;03m# use broadcasting to avoid allocating the full array\u001b[39;00m\n",
      "\u001b[1;31mValueError\u001b[0m: shape mismatch: objects cannot be broadcast to a single shape"
     ]
    },
    {
     "data": {
      "image/png": "[encoded data removed]",
      "text/plain": [
       "<Figure size 432x288 with 1 Axes>"
      ]
     },
     "metadata": {},
     "output_type": "display_data"
    }
   ],
   "source": [
    "# genders= list(df.loc[(df[\"Survived\"]>0),\"Sex\"].value_counts().keys())\n",
    "# survivors = list(df.loc[(df[\"Survived\"]>0),\"Sex\"].value_counts())\n",
    "plt.bar(us['location_country'], convert['location_country'], color =('green','brown'),\n",
    "        width = 0.4)\n",
    "plt.xlabel(\"Genders\")\n",
    "plt.ylabel(\"Count of Survivors\")\n",
    "plt.title(\"Count of Survivors Based on Gender\")\n",
    "plt.show()"
   ]
  },
  {
   "cell_type": "code",
   "execution_count": 55,
   "id": "150f3556-6d3a-41e4-ad42-12a270fdde0c",
   "metadata": {},
   "outputs": [
    {
     "ename": "AttributeError",
     "evalue": "'Rectangle' object has no property 'normalize'",
     "output_type": "error",
     "traceback": [
      "\u001b[1;31m---------------------------------------------------------------------------\u001b[0m",
      "\u001b[1;31mAttributeError\u001b[0m                            Traceback (most recent call last)",
      "Input \u001b[1;32mIn [55]\u001b[0m, in \u001b[0;36m<cell line: 9>\u001b[1;34m()\u001b[0m\n\u001b[0;32m      7\u001b[0m     plt\u001b[38;5;241m.\u001b[39mlegend();\n\u001b[0;32m      8\u001b[0m     \u001b[38;5;28;01mreturn\u001b[39;00m plt\u001b[38;5;241m.\u001b[39mshow()\n\u001b[1;32m----> 9\u001b[0m \u001b[43mbars\u001b[49m\u001b[43m(\u001b[49m\u001b[38;5;124;43m'\u001b[39;49m\u001b[38;5;124;43mmonth_of_year\u001b[39;49m\u001b[38;5;124;43m'\u001b[39;49m\u001b[43m)\u001b[49m\n",
      "Input \u001b[1;32mIn [55]\u001b[0m, in \u001b[0;36mbars\u001b[1;34m(col)\u001b[0m\n\u001b[0;32m      1\u001b[0m \u001b[38;5;28;01mdef\u001b[39;00m \u001b[38;5;21mbars\u001b[39m(col):\n\u001b[1;32m----> 3\u001b[0m     \u001b[43mplt\u001b[49m\u001b[38;5;241;43m.\u001b[39;49m\u001b[43mhist\u001b[49m\u001b[43m(\u001b[49m\u001b[43mcol\u001b[49m\u001b[43m,\u001b[49m\u001b[43m \u001b[49m\u001b[43mdata\u001b[49m\u001b[38;5;241;43m=\u001b[39;49m\u001b[43m \u001b[49m\u001b[43mconvert\u001b[49m\u001b[43m,\u001b[49m\u001b[43m \u001b[49m\u001b[43malpha\u001b[49m\u001b[38;5;241;43m=\u001b[39;49m\u001b[38;5;241;43m0.5\u001b[39;49m\u001b[43m,\u001b[49m\u001b[43m \u001b[49m\u001b[43mlabel\u001b[49m\u001b[38;5;241;43m=\u001b[39;49m\u001b[38;5;124;43m'\u001b[39;49m\u001b[38;5;124;43mbounce\u001b[39;49m\u001b[38;5;124;43m'\u001b[39;49m\u001b[43m,\u001b[49m\u001b[43mnormalize\u001b[49m\u001b[43m \u001b[49m\u001b[38;5;241;43m=\u001b[39;49m\u001b[43m \u001b[49m\u001b[38;5;28;43;01mTrue\u001b[39;49;00m\u001b[43m)\u001b[49m;\n\u001b[0;32m      4\u001b[0m     plt\u001b[38;5;241m.\u001b[39mhist(col, data\u001b[38;5;241m=\u001b[39m us, alpha\u001b[38;5;241m=\u001b[39m\u001b[38;5;241m0.5\u001b[39m, label\u001b[38;5;241m=\u001b[39m\u001b[38;5;124m'\u001b[39m\u001b[38;5;124mnot bounce\u001b[39m\u001b[38;5;124m'\u001b[39m);\n\u001b[0;32m      5\u001b[0m     plt\u001b[38;5;241m.\u001b[39mtitle(\u001b[38;5;124m'\u001b[39m\u001b[38;5;124mDistribution\u001b[39m\u001b[38;5;124m'\u001b[39m);\n",
      "File \u001b[1;32m~\\anaconda3\\lib\\site-packages\\matplotlib\\pyplot.py:2590\u001b[0m, in \u001b[0;36mhist\u001b[1;34m(x, bins, range, density, weights, cumulative, bottom, histtype, align, orientation, rwidth, log, color, label, stacked, data, **kwargs)\u001b[0m\n\u001b[0;32m   2584\u001b[0m \u001b[38;5;129m@_copy_docstring_and_deprecators\u001b[39m(Axes\u001b[38;5;241m.\u001b[39mhist)\n\u001b[0;32m   2585\u001b[0m \u001b[38;5;28;01mdef\u001b[39;00m \u001b[38;5;21mhist\u001b[39m(\n\u001b[0;32m   2586\u001b[0m         x, bins\u001b[38;5;241m=\u001b[39m\u001b[38;5;28;01mNone\u001b[39;00m, \u001b[38;5;28mrange\u001b[39m\u001b[38;5;241m=\u001b[39m\u001b[38;5;28;01mNone\u001b[39;00m, density\u001b[38;5;241m=\u001b[39m\u001b[38;5;28;01mFalse\u001b[39;00m, weights\u001b[38;5;241m=\u001b[39m\u001b[38;5;28;01mNone\u001b[39;00m,\n\u001b[0;32m   2587\u001b[0m         cumulative\u001b[38;5;241m=\u001b[39m\u001b[38;5;28;01mFalse\u001b[39;00m, bottom\u001b[38;5;241m=\u001b[39m\u001b[38;5;28;01mNone\u001b[39;00m, histtype\u001b[38;5;241m=\u001b[39m\u001b[38;5;124m'\u001b[39m\u001b[38;5;124mbar\u001b[39m\u001b[38;5;124m'\u001b[39m, align\u001b[38;5;241m=\u001b[39m\u001b[38;5;124m'\u001b[39m\u001b[38;5;124mmid\u001b[39m\u001b[38;5;124m'\u001b[39m,\n\u001b[0;32m   2588\u001b[0m         orientation\u001b[38;5;241m=\u001b[39m\u001b[38;5;124m'\u001b[39m\u001b[38;5;124mvertical\u001b[39m\u001b[38;5;124m'\u001b[39m, rwidth\u001b[38;5;241m=\u001b[39m\u001b[38;5;28;01mNone\u001b[39;00m, log\u001b[38;5;241m=\u001b[39m\u001b[38;5;28;01mFalse\u001b[39;00m, color\u001b[38;5;241m=\u001b[39m\u001b[38;5;28;01mNone\u001b[39;00m,\n\u001b[0;32m   2589\u001b[0m         label\u001b[38;5;241m=\u001b[39m\u001b[38;5;28;01mNone\u001b[39;00m, stacked\u001b[38;5;241m=\u001b[39m\u001b[38;5;28;01mFalse\u001b[39;00m, \u001b[38;5;241m*\u001b[39m, data\u001b[38;5;241m=\u001b[39m\u001b[38;5;28;01mNone\u001b[39;00m, \u001b[38;5;241m*\u001b[39m\u001b[38;5;241m*\u001b[39mkwargs):\n\u001b[1;32m-> 2590\u001b[0m     \u001b[38;5;28;01mreturn\u001b[39;00m gca()\u001b[38;5;241m.\u001b[39mhist(\n\u001b[0;32m   2591\u001b[0m         x, bins\u001b[38;5;241m=\u001b[39mbins, \u001b[38;5;28mrange\u001b[39m\u001b[38;5;241m=\u001b[39m\u001b[38;5;28mrange\u001b[39m, density\u001b[38;5;241m=\u001b[39mdensity, weights\u001b[38;5;241m=\u001b[39mweights,\n\u001b[0;32m   2592\u001b[0m         cumulative\u001b[38;5;241m=\u001b[39mcumulative, bottom\u001b[38;5;241m=\u001b[39mbottom, histtype\u001b[38;5;241m=\u001b[39mhisttype,\n\u001b[0;32m   2593\u001b[0m         align\u001b[38;5;241m=\u001b[39malign, orientation\u001b[38;5;241m=\u001b[39morientation, rwidth\u001b[38;5;241m=\u001b[39mrwidth, log\u001b[38;5;241m=\u001b[39mlog,\n\u001b[0;32m   2594\u001b[0m         color\u001b[38;5;241m=\u001b[39mcolor, label\u001b[38;5;241m=\u001b[39mlabel, stacked\u001b[38;5;241m=\u001b[39mstacked,\n\u001b[0;32m   2595\u001b[0m         \u001b[38;5;241m*\u001b[39m\u001b[38;5;241m*\u001b[39m({\u001b[38;5;124m\"\u001b[39m\u001b[38;5;124mdata\u001b[39m\u001b[38;5;124m\"\u001b[39m: data} \u001b[38;5;28;01mif\u001b[39;00m data \u001b[38;5;129;01mis\u001b[39;00m \u001b[38;5;129;01mnot\u001b[39;00m \u001b[38;5;28;01mNone\u001b[39;00m \u001b[38;5;28;01melse\u001b[39;00m {}), \u001b[38;5;241m*\u001b[39m\u001b[38;5;241m*\u001b[39mkwargs)\n",
      "File \u001b[1;32m~\\anaconda3\\lib\\site-packages\\matplotlib\\__init__.py:1438\u001b[0m, in \u001b[0;36m_preprocess_data.<locals>.inner\u001b[1;34m(ax, data, *args, **kwargs)\u001b[0m\n\u001b[0;32m   1434\u001b[0m \u001b[38;5;28;01mif\u001b[39;00m label_namer \u001b[38;5;129;01mand\u001b[39;00m \u001b[38;5;124m\"\u001b[39m\u001b[38;5;124mlabel\u001b[39m\u001b[38;5;124m\"\u001b[39m \u001b[38;5;129;01mnot\u001b[39;00m \u001b[38;5;129;01min\u001b[39;00m args_and_kwargs:\n\u001b[0;32m   1435\u001b[0m     new_kwargs[\u001b[38;5;124m\"\u001b[39m\u001b[38;5;124mlabel\u001b[39m\u001b[38;5;124m\"\u001b[39m] \u001b[38;5;241m=\u001b[39m _label_from_arg(\n\u001b[0;32m   1436\u001b[0m         args_and_kwargs\u001b[38;5;241m.\u001b[39mget(label_namer), auto_label)\n\u001b[1;32m-> 1438\u001b[0m \u001b[38;5;28;01mreturn\u001b[39;00m func(\u001b[38;5;241m*\u001b[39mnew_args, \u001b[38;5;241m*\u001b[39m\u001b[38;5;241m*\u001b[39mnew_kwargs)\n",
      "File \u001b[1;32m~\\anaconda3\\lib\\site-packages\\matplotlib\\axes\\_axes.py:6791\u001b[0m, in \u001b[0;36mAxes.hist\u001b[1;34m(self, x, bins, range, density, weights, cumulative, bottom, histtype, align, orientation, rwidth, log, color, label, stacked, **kwargs)\u001b[0m\n\u001b[0;32m   6789\u001b[0m \u001b[38;5;28;01mif\u001b[39;00m patch:\n\u001b[0;32m   6790\u001b[0m     p \u001b[38;5;241m=\u001b[39m patch[\u001b[38;5;241m0\u001b[39m]\n\u001b[1;32m-> 6791\u001b[0m     \u001b[43mp\u001b[49m\u001b[38;5;241;43m.\u001b[39;49m\u001b[43mupdate\u001b[49m\u001b[43m(\u001b[49m\u001b[43mkwargs\u001b[49m\u001b[43m)\u001b[49m\n\u001b[0;32m   6792\u001b[0m     \u001b[38;5;28;01mif\u001b[39;00m lbl \u001b[38;5;129;01mis\u001b[39;00m \u001b[38;5;129;01mnot\u001b[39;00m \u001b[38;5;28;01mNone\u001b[39;00m:\n\u001b[0;32m   6793\u001b[0m         p\u001b[38;5;241m.\u001b[39mset_label(lbl)\n",
      "File \u001b[1;32m~\\anaconda3\\lib\\site-packages\\matplotlib\\artist.py:1064\u001b[0m, in \u001b[0;36mArtist.update\u001b[1;34m(self, props)\u001b[0m\n\u001b[0;32m   1062\u001b[0m             func \u001b[38;5;241m=\u001b[39m \u001b[38;5;28mgetattr\u001b[39m(\u001b[38;5;28mself\u001b[39m, \u001b[38;5;124mf\u001b[39m\u001b[38;5;124m\"\u001b[39m\u001b[38;5;124mset_\u001b[39m\u001b[38;5;132;01m{\u001b[39;00mk\u001b[38;5;132;01m}\u001b[39;00m\u001b[38;5;124m\"\u001b[39m, \u001b[38;5;28;01mNone\u001b[39;00m)\n\u001b[0;32m   1063\u001b[0m             \u001b[38;5;28;01mif\u001b[39;00m \u001b[38;5;129;01mnot\u001b[39;00m callable(func):\n\u001b[1;32m-> 1064\u001b[0m                 \u001b[38;5;28;01mraise\u001b[39;00m \u001b[38;5;167;01mAttributeError\u001b[39;00m(\u001b[38;5;124mf\u001b[39m\u001b[38;5;124m\"\u001b[39m\u001b[38;5;132;01m{\u001b[39;00m\u001b[38;5;28mtype\u001b[39m(\u001b[38;5;28mself\u001b[39m)\u001b[38;5;241m.\u001b[39m\u001b[38;5;18m__name__\u001b[39m\u001b[38;5;132;01m!r}\u001b[39;00m\u001b[38;5;124m object \u001b[39m\u001b[38;5;124m\"\u001b[39m\n\u001b[0;32m   1065\u001b[0m                                      \u001b[38;5;124mf\u001b[39m\u001b[38;5;124m\"\u001b[39m\u001b[38;5;124mhas no property \u001b[39m\u001b[38;5;132;01m{\u001b[39;00mk\u001b[38;5;132;01m!r}\u001b[39;00m\u001b[38;5;124m\"\u001b[39m)\n\u001b[0;32m   1066\u001b[0m             ret\u001b[38;5;241m.\u001b[39mappend(func(v))\n\u001b[0;32m   1067\u001b[0m \u001b[38;5;28;01mif\u001b[39;00m ret:\n",
      "\u001b[1;31mAttributeError\u001b[0m: 'Rectangle' object has no property 'normalize'"
     ]
    },
    {
     "data": {
      "image/png": "[encoded data removed]",
      "text/plain": [
       "<Figure size 432x288 with 1 Axes>"
      ]
     },
     "metadata": {
      "needs_background": "light"
     },
     "output_type": "display_data"
    }
   ],
   "source": [
    "def bars(col):\n",
    "    \n",
    "    plt.hist(col, data= convert, alpha=0.5, label='bounce',normalize = True);\n",
    "    plt.hist(col, data= us, alpha=0.5, label='not bounce');\n",
    "    plt.title('Distribution');\n",
    "    plt.xlabel(col);\n",
    "    plt.legend();\n",
    "    return plt.show()\n",
    "bars('month_of_year')"
   ]
  },
  {
   "cell_type": "code",
   "execution_count": 41,
   "id": "4b2c1435-4360-4d4a-9b2f-9673b2a6e85f",
   "metadata": {},
   "outputs": [
    {
     "data": {
      "text/plain": [
       "August       64\n",
       "July         46\n",
       "September    38\n",
       "April        29\n",
       "March        26\n",
       "February     26\n",
       "January      21\n",
       "June         19\n",
       "May          15\n",
       "October       8\n",
       "Name: month_of_year, dtype: int64"
      ]
     },
     "execution_count": 41,
     "metadata": {},
     "output_type": "execute_result"
    }
   ],
   "source": [
    "convert['month_of_year'].value_counts()"
   ]
  },
  {
   "cell_type": "code",
   "execution_count": 42,
   "id": "2bd62e23-a414-4167-b931-ecf0c71adb02",
   "metadata": {},
   "outputs": [
    {
     "data": {
      "text/plain": [
       "location_country\n",
       "Australia                                       2\n",
       "Canada                                   [16, 18]\n",
       "Denmark                            [1, 8, 11, 12]\n",
       "France                         [6, 8, 10, 11, 15]\n",
       "Germany                                         1\n",
       "India                                          22\n",
       "Indonesia                                       4\n",
       "Iraq                                            1\n",
       "Malaysia                                       20\n",
       "Norway                                          5\n",
       "Oman                                           12\n",
       "Pakistan                                [3, 5, 7]\n",
       "Philippines                              [13, 14]\n",
       "Poland                                         11\n",
       "Qatar                                           8\n",
       "Saudi Arabia                                   20\n",
       "South Africa                                   13\n",
       "Spain                                          16\n",
       "Sweden                                         12\n",
       "Switzerland                                    14\n",
       "Turkey                                     [4, 9]\n",
       "United Arab Emirates    [3, 5, 6, 11, 12, 13, 20]\n",
       "United Kingdom                                  8\n",
       "United States                             [9, 21]\n",
       "Name: hour_of_day, dtype: object"
      ]
     },
     "execution_count": 42,
     "metadata": {},
     "output_type": "execute_result"
    }
   ],
   "source": [
    "# convert.groupby('location_country').hist['hour_of_day']\n",
    "convert.groupby(['location_country'])['hour_of_day'].agg(pd.Series.mode)"
   ]
  },
  {
   "cell_type": "code",
   "execution_count": 43,
   "id": "103972b8-cdeb-4491-a934-2cfbb0d9804c",
   "metadata": {},
   "outputs": [],
   "source": [
    "# convert.groupby('hour_of_day').value_counts()['location_country']\n",
    "# .loc[countries_that_turn['Total_checkouts'] > 4].sort_values(by='Turn_rate', ascending= False))"
   ]
  },
  {
   "cell_type": "code",
   "execution_count": 44,
   "id": "09feaf04-5367-4f67-9fe2-a2daa74727d7",
   "metadata": {},
   "outputs": [
    {
     "data": {
      "text/plain": [
       "google            9\n",
       "abandoned_cart    2\n",
       "facebook          2\n",
       "Name: utm_campaign_source, dtype: int64"
      ]
     },
     "execution_count": 44,
     "metadata": {},
     "output_type": "execute_result"
    }
   ],
   "source": [
    "convert['utm_campaign_source'].value_counts()"
   ]
  },
  {
   "cell_type": "code",
   "execution_count": 45,
   "id": "7b3143f6-b548-4526-8b54-cc05d5beecad",
   "metadata": {},
   "outputs": [
    {
     "data": {
      "text/plain": [
       "google            68\n",
       "abandoned_cart    13\n",
       "shop_app           9\n",
       "facebook           6\n",
       "clubhouse          4\n",
       "judgeme            2\n",
       "IGShopping         1\n",
       "Abandoned_cart     1\n",
       "Name: utm_campaign_source, dtype: int64"
      ]
     },
     "execution_count": 45,
     "metadata": {},
     "output_type": "execute_result"
    }
   ],
   "source": [
    "df['utm_campaign_source'].value_counts()"
   ]
  },
  {
   "cell_type": "code",
   "execution_count": 46,
   "id": "c58cd2b0-6671-4246-be11-79846efd78e9",
   "metadata": {},
   "outputs": [
    {
     "data": {
      "text/plain": [
       "facebook          33.333333\n",
       "abandoned_cart    15.384615\n",
       "google            13.235294\n",
       "Name: utm_campaign_source, dtype: float64"
      ]
     },
     "execution_count": 46,
     "metadata": {},
     "output_type": "execute_result"
    }
   ],
   "source": [
    "((convert['utm_campaign_source'].value_counts()/df['utm_campaign_source'].value_counts())*100).sort_values(ascending = False)[:3]"
   ]
  },
  {
   "cell_type": "code",
   "execution_count": 47,
   "id": "1cd65df4-bb67-4710-a44e-1517d5ed6dd2",
   "metadata": {},
   "outputs": [
    {
     "data": {
      "text/plain": [
       "Google        1978\n",
       "Instagram      216\n",
       "Facebook       109\n",
       "DuckDuckGo      28\n",
       "Bing            22\n",
       "Yahoo!           7\n",
       "Yandex           6\n",
       "Gmail            5\n",
       "Reddit           3\n",
       "Ecosia           2\n",
       "Name: referrer_name, dtype: int64"
      ]
     },
     "execution_count": 47,
     "metadata": {},
     "output_type": "execute_result"
    }
   ],
   "source": [
    "df['referrer_name'].value_counts()"
   ]
  },
  {
   "cell_type": "code",
   "execution_count": 48,
   "id": "d7ce5db5-b99b-462c-a6c1-04532956f91a",
   "metadata": {},
   "outputs": [
    {
     "ename": "SyntaxError",
     "evalue": "invalid syntax (899053820.py, line 1)",
     "output_type": "error",
     "traceback": [
      "\u001b[1;36m  Input \u001b[1;32mIn [48]\u001b[1;36m\u001b[0m\n\u001b[1;33m    convert['location_country'].value_counts()[]\u001b[0m\n\u001b[1;37m                                               ^\u001b[0m\n\u001b[1;31mSyntaxError\u001b[0m\u001b[1;31m:\u001b[0m invalid syntax\n"
     ]
    }
   ],
   "source": [
    "convert['location_country'].value_counts()[]"
   ]
  },
  {
   "cell_type": "code",
   "execution_count": null,
   "id": "7747c8cb-0571-40d5-8f4e-2093e76657b7",
   "metadata": {},
   "outputs": [],
   "source": [
    "# (convert['referrer_name'].value_counts()/df['referrer_name'].value_counts()*100).sort_values(ascending = False)\n",
    "((convert['referrer_name'].value_counts()/df['referrer_name'].value_counts())*100).sort_values(ascending = False)"
   ]
  },
  {
   "cell_type": "code",
   "execution_count": null,
   "id": "4b49a569-42bf-41da-98fc-9fa8da0ace73",
   "metadata": {},
   "outputs": [],
   "source": [
    "x = convert.loc[convert['referrer_name'] == 'Instagram']\n",
    "x['location_country'].value_counts()"
   ]
  },
  {
   "cell_type": "code",
   "execution_count": null,
   "id": "c714ba95-8053-4cc1-8f4a-d7e1bd8a90fd",
   "metadata": {},
   "outputs": [],
   "source": [
    "print((convert['location_country'].value_counts()/df['location_country'].value_counts())*100).sort_values(ascending = True)"
   ]
  },
  {
   "cell_type": "code",
   "execution_count": null,
   "id": "2175d83f-a447-45d5-b5dd-b932a4b30241",
   "metadata": {},
   "outputs": [],
   "source": [
    "for col in df:\n",
    "    \n",
    "    # print(f'Column : {col}\\n{((convert[col].value_counts()/df[col].value_counts())*100).sort_values(ascending = False)}')"
   ]
  },
  {
   "cell_type": "code",
   "execution_count": null,
   "id": "10ea5f15-6e40-4660-960c-f0628b331b86",
   "metadata": {},
   "outputs": [],
   "source": []
  },
  {
   "cell_type": "code",
   "execution_count": null,
   "id": "5ce91418-96b1-4343-b40c-28d4bf48e44e",
   "metadata": {},
   "outputs": [],
   "source": []
  },
  {
   "cell_type": "code",
   "execution_count": null,
   "id": "bf0b0cbd-ead5-443a-9556-49a6a4d102c2",
   "metadata": {},
   "outputs": [],
   "source": [
    "df['location_country'].value_counts()"
   ]
  },
  {
   "cell_type": "code",
   "execution_count": null,
   "id": "f01c7445-d491-4bf5-96bd-40f1352c2d2d",
   "metadata": {},
   "outputs": [],
   "source": [
    "(convert['location_country'].value_counts()/df['location_country'].value_counts()*100).sort_values(ascending = False).head(10)"
   ]
  },
  {
   "cell_type": "code",
   "execution_count": null,
   "id": "e57eaaaa-7c64-44fb-9ffc-9de56a5d1509",
   "metadata": {},
   "outputs": [],
   "source": [
    "convert['location_country'].value_counts(normalize = True)"
   ]
  },
  {
   "cell_type": "code",
   "execution_count": null,
   "id": "acdbbc3c-57cd-4dc0-9465-0d65cd191311",
   "metadata": {},
   "outputs": [],
   "source": [
    "# for col in convert.columns:\n",
    "#     print(convert[col].value_counts().sort_values(ascending = False))"
   ]
  },
  {
   "cell_type": "code",
   "execution_count": null,
   "id": "a5045a15-5d46-4f0e-92a4-47e5da7b627d",
   "metadata": {},
   "outputs": [],
   "source": [
    "convert['referrer_source'].value_counts()"
   ]
  },
  {
   "cell_type": "code",
   "execution_count": null,
   "id": "1fbff975-08ff-4de3-b5b2-4b9196ae9996",
   "metadata": {},
   "outputs": [],
   "source": [
    "df['referrer_source'].value_counts()"
   ]
  },
  {
   "cell_type": "code",
   "execution_count": null,
   "id": "8a7845e1-28dc-48d7-a03a-870202d85248",
   "metadata": {},
   "outputs": [],
   "source": [
    "((convert['referrer_source'].value_counts()/df['referrer_source'].value_counts())*100).sort_values(ascending = False)[1:]"
   ]
  },
  {
   "cell_type": "code",
   "execution_count": null,
   "id": "fa2b661c-12c8-4cd2-b107-57f338b8ec68",
   "metadata": {},
   "outputs": [],
   "source": [
    "((convert['total_conversion'].value_counts()/df['total_conversion'].value_counts())*100).sort_values(ascending = False)[1:]"
   ]
  },
  {
   "cell_type": "code",
   "execution_count": null,
   "id": "2c29cf27-e9d1-4555-9d59-c3debe3c7782",
   "metadata": {},
   "outputs": [],
   "source": [
    "df['referrer_name'].value_counts().sort_values(ascending= False)[:20]"
   ]
  },
  {
   "cell_type": "code",
   "execution_count": null,
   "id": "dd8bfdef-9b6a-4a6f-8848-f4efd5e5aa60",
   "metadata": {},
   "outputs": [],
   "source": [
    "convert.groupby('hour_of_day').sum()['total_checkouts'].sort_values(ascending= False)\n"
   ]
  },
  {
   "cell_type": "code",
   "execution_count": null,
   "id": "3dcb80bf-2698-424e-86be-37b7cb9166a2",
   "metadata": {},
   "outputs": [],
   "source": [
    "df['location_country'].value_counts()"
   ]
  },
  {
   "cell_type": "code",
   "execution_count": null,
   "id": "36db806a-2a07-44bd-9543-737dd994a9af",
   "metadata": {},
   "outputs": [],
   "source": [
    "df['total_checkouts'].value_counts()"
   ]
  },
  {
   "cell_type": "code",
   "execution_count": null,
   "id": "4a4a3974-184c-4297-bbc2-c8e462e72b35",
   "metadata": {},
   "outputs": [],
   "source": [
    "# convert = df.loc[df['total_checkouts'] == 1]"
   ]
  },
  {
   "cell_type": "code",
   "execution_count": null,
   "id": "adc640e4-57e0-4fcf-b0a4-89b6413a7f35",
   "metadata": {},
   "outputs": [],
   "source": [
    "convert['location_country'].value_counts()['United States']"
   ]
  },
  {
   "cell_type": "code",
   "execution_count": null,
   "id": "26fb7d3e-eda5-45a8-bcda-25364eaad779",
   "metadata": {},
   "outputs": [],
   "source": [
    "countries = list(convert['location_country'].unique())"
   ]
  },
  {
   "cell_type": "code",
   "execution_count": null,
   "id": "c7137f40-a8b5-4b67-832c-30a3c0856045",
   "metadata": {},
   "outputs": [],
   "source": [
    "convert['location_country'].value_counts()"
   ]
  },
  {
   "cell_type": "code",
   "execution_count": null,
   "id": "80f38263-f149-4cb4-82d9-bc847a8f6939",
   "metadata": {},
   "outputs": [],
   "source": [
    "# convert.groupby('location_country').sum()['total_checkouts'].sort_values(ascending= False)"
   ]
  },
  {
   "cell_type": "code",
   "execution_count": null,
   "id": "f3eae541-67d1-4d27-a703-634d8d7efa57",
   "metadata": {},
   "outputs": [],
   "source": [
    "turn = []\n",
    "\n",
    "for con in countries:\n",
    "    turn.append({\n",
    "        'Country': con,\n",
    "        'Turn_rate': (convert['location_country'].value_counts()[con]/df['location_country'].value_counts()[con])* 100,\n",
    "        'Total_checkouts': convert['location_country'].value_counts()[con],\n",
    "        'Visits_by_country': df['location_country'].value_counts()[con]\n",
    "    })\n",
    "    \n",
    "countries_that_turn = pd.DataFrame(turn)\n",
    "    \n",
    "# display(countries_that_turn.sort_values(by='Turn_rate', ascending= False))\n",
    "display(countries_that_turn.loc[countries_that_turn['Total_checkouts'] > 4].sort_values(by='Turn_rate', ascending= False))"
   ]
  },
  {
   "cell_type": "code",
   "execution_count": null,
   "id": "d2cbc7bc-8b3a-4ff5-9bc9-06dd6e2a54b3",
   "metadata": {},
   "outputs": [],
   "source": [
    "# Other Questions : What state?"
   ]
  },
  {
   "cell_type": "code",
   "execution_count": null,
   "id": "a5bc74c2-d171-44aa-946d-a1cdd809ca2f",
   "metadata": {},
   "outputs": [],
   "source": []
  },
  {
   "cell_type": "code",
   "execution_count": null,
   "id": "37c7fd55-3718-4006-8fdc-e7c4a4bc29b7",
   "metadata": {},
   "outputs": [],
   "source": []
  },
  {
   "cell_type": "code",
   "execution_count": null,
   "id": "6e4b97b2-3d8a-4ad3-a922-a91e53511c43",
   "metadata": {},
   "outputs": [],
   "source": []
  },
  {
   "cell_type": "code",
   "execution_count": null,
   "id": "a5951ee9-0bf4-43e6-ba08-d419c21fde16",
   "metadata": {},
   "outputs": [],
   "source": []
  },
  {
   "cell_type": "code",
   "execution_count": null,
   "id": "74146b93-7078-4e34-a7b7-14c4492c9c60",
   "metadata": {},
   "outputs": [],
   "source": []
  },
  {
   "cell_type": "code",
   "execution_count": null,
   "id": "74f5acbf-e5b4-42cc-9625-d7231d7fd65f",
   "metadata": {},
   "outputs": [],
   "source": []
  },
  {
   "cell_type": "code",
   "execution_count": null,
   "id": "523dd36b-a24c-408f-9cdf-30a483b3e6f9",
   "metadata": {},
   "outputs": [],
   "source": [
    "df1 = df.copy()\n",
    "empty_cols = [col for col in df1.columns if df1[col].isnull().all()]\n",
    "df1.drop(empty_cols,\n",
    "        axis=1,\n",
    "        inplace=True)\n",
    "df1.drop('year',\n",
    "        axis=1,\n",
    "        inplace=True)"
   ]
  },
  {
   "cell_type": "code",
   "execution_count": null,
   "id": "d931d77a-0af1-47bb-815c-a961780eaf30",
   "metadata": {},
   "outputs": [],
   "source": []
  },
  {
   "cell_type": "code",
   "execution_count": null,
   "id": "e423b520-5b93-47e3-a639-a747331a7817",
   "metadata": {},
   "outputs": [],
   "source": [
    "deff = list(['location country', 'location city', 'device type', 'device browser', \n",
    "           'device browser', 'device operating version', \n",
    "           'device operating system', 'landing page path', 'landing page resource', 'landing page type', 'landing page url', 'location region', ' marketing event type',\n",
    "           'referrer host site','referrer name', 'referrer path', 'referrer source', 'referrer URL', 'hour','day','week','month','hour of the day','day of the week','month of year', 'campaign source', 'campaign name', \n",
    "           'campaign medium','quarter', 'total visitors', 'total sessions', 'average duration', 'total amount of time before bounce; bounce rate', 'total_carts',\n",
    "           'total checkouts', 'total conversion', 'total orders placed', 'total pageviews']) "
   ]
  },
  {
   "cell_type": "code",
   "execution_count": null,
   "id": "1398bbef-69ac-4a51-9f20-64a1bd87a3de",
   "metadata": {},
   "outputs": [],
   "source": []
  },
  {
   "cell_type": "code",
   "execution_count": null,
   "id": "4a671419-3cdb-4fbe-9bee-d61c9aa1730b",
   "metadata": {},
   "outputs": [],
   "source": [
    "df_dict = []\n",
    "\n",
    "for col in df1.columns:\n",
    "    x = df1[col].unique()[1] if df1[col].unique()[0] != 'NaN' else df1[col][0]\n",
    "    df_dict.append({\n",
    "        'Column': col,\n",
    "        'Type': str(df1.dtypes[col]),\n",
    "        'Max Length': max(df1[col].map(str).apply(len)),\n",
    "        'Example': x ,\n",
    "        'Null_Count': sum(df1[col].isna()),\n",
    "        'Definition': str('')\n",
    "    })\n",
    "dic = pd.DataFrame(df_dict)"
   ]
  },
  {
   "cell_type": "code",
   "execution_count": null,
   "id": "74edf14d-e97a-424b-8e12-52c99d089f83",
   "metadata": {},
   "outputs": [],
   "source": [
    "dic['Definition'] = deff\n",
    "dic.shape\n"
   ]
  },
  {
   "cell_type": "code",
   "execution_count": null,
   "id": "47ad192e-cf4b-4f8d-8960-32e38fbbede7",
   "metadata": {},
   "outputs": [],
   "source": [
    "dic"
   ]
  },
  {
   "cell_type": "code",
   "execution_count": null,
   "id": "3be74621-c5d6-46ea-a0d2-6d23bf295f92",
   "metadata": {},
   "outputs": [],
   "source": [
    "# corr = df.corr('spearman')\n",
    "# plt.figure(figsize=(15, 10))\n",
    "# sns.heatmap(corr,cmap='coolwarm', annot=True)"
   ]
  },
  {
   "cell_type": "code",
   "execution_count": null,
   "id": "5dc9a345-54d0-4b5d-868e-486b9997c2c9",
   "metadata": {},
   "outputs": [],
   "source": [
    "\n",
    "# df1 = df.copy()\n",
    "# cols = df1.select_dtypes(['object']).columns.tolist()\n",
    "# for i in cols:\n",
    "#     df1[i]= df1[i].astype('category').cat.codes\n",
    "# corr = df1.corr()\n",
    "# plt.figure(figsize=(30,15))\n",
    "# sns.heatmap(corr,cmap='coolwarm', annot=True)\n",
    "# # df.corr()"
   ]
  },
  {
   "cell_type": "code",
   "execution_count": null,
   "id": "217a6225-ec7b-4b80-90db-ee8b58172896",
   "metadata": {},
   "outputs": [],
   "source": [
    "\n",
    "# importing the libraries\n",
    "# from sklearn.preprocessing import LabelBinarizer\n",
    "  \n",
    "# # creating a copy of the\n",
    "# # original data frame\n",
    "\n",
    "# # creating an object \n",
    "# # of the LabelBinarizer\n",
    "# label_binarizer = LabelBinarizer()\n",
    "\n",
    "# # cols = df1.select_dtypes(['object']).columns.tolist()\n",
    "\n",
    "# # fitting the column \n",
    "# # TEMPERATURE to LabelBinarizer\n",
    "# df1 = df.copy()\n",
    "# cols = df1.select_dtypes(['object']).columns.tolist()\n",
    "# for i in cols:\n",
    "#     df1[i] = df1[i].astype('object')\n",
    "#     label_binarizer_output = label_binarizer.fit_transform( df1[i])\n",
    "  \n",
    "# # creating a data frame from the object\n",
    "# result_df = pd.DataFrame(label_binarizer_output,\n",
    "#                         columns = label_binarizer.classes_)\n",
    "  \n",
    "# display(result_df)"
   ]
  },
  {
   "cell_type": "code",
   "execution_count": null,
   "id": "7570dc2a-9049-4eb6-9166-1df0caac82c0",
   "metadata": {},
   "outputs": [],
   "source": []
  },
  {
   "cell_type": "code",
   "execution_count": null,
   "id": "f31446da-ddb6-496c-b142-975c46d70739",
   "metadata": {},
   "outputs": [],
   "source": [
    "# corr = result_df.corr('spearman')\n",
    "# plt.figure(figsize=(15, 10))\n",
    "# sns.heatmap(corr,cmap='coolwarm', annot=True)"
   ]
  }
 ],
 "metadata": {
  "kernelspec": {
   "display_name": "Python 3 (ipykernel)",
   "language": "python",
   "name": "python3"
  },
  "language_info": {
   "codemirror_mode": {
    "name": "ipython",
    "version": 3
   },
   "file_extension": ".py",
   "mimetype": "text/x-python",
   "name": "python",
   "nbconvert_exporter": "python",
   "pygments_lexer": "ipython3",
   "version": "3.9.12"
  }
 },
 "nbformat": 4,
 "nbformat_minor": 5
}
